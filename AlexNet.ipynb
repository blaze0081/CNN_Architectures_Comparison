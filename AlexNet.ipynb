{
 "cells": [
  {
   "cell_type": "code",
   "execution_count": 1,
   "id": "7002a089",
   "metadata": {},
   "outputs": [
    {
     "name": "stderr",
     "output_type": "stream",
     "text": [
      "2023-07-23 22:02:44.844702: I tensorflow/core/util/port.cc:110] oneDNN custom operations are on. You may see slightly different numerical results due to floating-point round-off errors from different computation orders. To turn them off, set the environment variable `TF_ENABLE_ONEDNN_OPTS=0`.\n",
      "2023-07-23 22:02:44.885265: I tensorflow/tsl/cuda/cudart_stub.cc:28] Could not find cuda drivers on your machine, GPU will not be used.\n",
      "2023-07-23 22:02:45.142959: I tensorflow/tsl/cuda/cudart_stub.cc:28] Could not find cuda drivers on your machine, GPU will not be used.\n",
      "2023-07-23 22:02:45.144369: I tensorflow/core/platform/cpu_feature_guard.cc:182] This TensorFlow binary is optimized to use available CPU instructions in performance-critical operations.\n",
      "To enable the following instructions: AVX2 AVX512F AVX512_VNNI FMA, in other operations, rebuild TensorFlow with the appropriate compiler flags.\n",
      "2023-07-23 22:02:46.073572: W tensorflow/compiler/tf2tensorrt/utils/py_utils.cc:38] TF-TRT Warning: Could not find TensorRT\n"
     ]
    }
   ],
   "source": [
    "import keras\n",
    "import tensorflow as tf"
   ]
  },
  {
   "cell_type": "code",
   "execution_count": 2,
   "id": "58f2c3f7",
   "metadata": {},
   "outputs": [],
   "source": [
    "(x_train, y_train), (x_test, y_test) = keras.datasets.mnist.load_data()"
   ]
  },
  {
   "cell_type": "code",
   "execution_count": 3,
   "id": "02bc6d6e",
   "metadata": {},
   "outputs": [],
   "source": [
    "#Reshape\n",
    "x_train = x_train.reshape(x_train.shape[0], 28, 28, 1)\n",
    "x_test = x_test.reshape(x_test.shape[0], 28, 28, 1)"
   ]
  },
  {
   "cell_type": "code",
   "execution_count": 4,
   "id": "8a11624d",
   "metadata": {},
   "outputs": [],
   "source": [
    "#Normalization\n",
    "x_train = x_train / 255\n",
    "x_test = x_test / 255"
   ]
  },
  {
   "cell_type": "code",
   "execution_count": 5,
   "id": "3b68aa27",
   "metadata": {
    "scrolled": true
   },
   "outputs": [
    {
     "name": "stderr",
     "output_type": "stream",
     "text": [
      "2023-07-23 22:02:47.716188: I tensorflow/compiler/xla/stream_executor/cuda/cuda_gpu_executor.cc:995] successful NUMA node read from SysFS had negative value (-1), but there must be at least one NUMA node, so returning NUMA node zero. See more at https://github.com/torvalds/linux/blob/v6.0/Documentation/ABI/testing/sysfs-bus-pci#L344-L355\n",
      "2023-07-23 22:02:47.716776: W tensorflow/core/common_runtime/gpu/gpu_device.cc:1960] Cannot dlopen some GPU libraries. Please make sure the missing libraries mentioned above are installed properly if you would like to use GPU. Follow the guide at https://www.tensorflow.org/install/gpu for how to download and setup the required libraries for your platform.\n",
      "Skipping registering GPU devices...\n"
     ]
    }
   ],
   "source": [
    "model = keras.models.Sequential([\n",
    "    tf.keras.layers.Conv2D(96, kernel_size=(11, 11), activation='relu', input_shape=(28, 28, 1), strides=4, padding = \"valid\"),\n",
    "    tf.keras.layers.BatchNormalization(),\n",
    "    tf.keras.layers.MaxPooling2D(pool_size=(3, 3), strides=2, padding = \"valid\"),\n",
    "    tf.keras.layers.Conv2D(256, kernel_size=(5, 5), activation='relu', strides=1, padding = \"same\"),\n",
    "    tf.keras.layers.MaxPooling2D(pool_size=(2, 2), strides=2, padding = \"valid\"),\n",
    "    tf.keras.layers.Conv2D(384, kernel_size=(3, 3), activation='relu', strides=1, padding = \"same\"),\n",
    "    tf.keras.layers.BatchNormalization(),\n",
    "    tf.keras.layers.Conv2D(384, kernel_size=(3, 3), activation='relu', strides=1, padding = \"same\"),\n",
    "    tf.keras.layers.BatchNormalization(),\n",
    "    tf.keras.layers.Conv2D(256, kernel_size=(3, 3), activation='relu', strides=1, padding = \"same\"),\n",
    "    tf.keras.layers.BatchNormalization(),\n",
    "    tf.keras.layers.Flatten(),\n",
    "    tf.keras.layers.Dense(4096, activation=\"relu\"),\n",
    "    keras.layers.Dropout(0.5),\n",
    "    tf.keras.layers.Dense(4096, activation=\"relu\"),\n",
    "    keras.layers.Dropout(0.5),\n",
    "    tf.keras.layers.Dense(1000, activation=\"softmax\")\n",
    "])\n"
   ]
  },
  {
   "cell_type": "code",
   "execution_count": 6,
   "id": "386c29ea",
   "metadata": {},
   "outputs": [],
   "source": [
    "model.compile(loss=\"sparse_categorical_crossentropy\", optimizer=\"sgd\", metrics=[\"accuracy\"])"
   ]
  },
  {
   "cell_type": "code",
   "execution_count": 7,
   "id": "3b3eb5b7",
   "metadata": {},
   "outputs": [
    {
     "name": "stdout",
     "output_type": "stream",
     "text": [
      "Epoch 1/20\n",
      "469/469 [==============================] - 58s 122ms/step - loss: 0.5196 - accuracy: 0.9065 - val_loss: 0.6715 - val_accuracy: 0.8326\n",
      "Epoch 2/20\n",
      "469/469 [==============================] - 54s 115ms/step - loss: 0.0794 - accuracy: 0.9773 - val_loss: 0.0719 - val_accuracy: 0.9780\n",
      "Epoch 3/20\n",
      "469/469 [==============================] - 55s 118ms/step - loss: 0.0558 - accuracy: 0.9841 - val_loss: 0.0940 - val_accuracy: 0.9697\n",
      "Epoch 4/20\n",
      "469/469 [==============================] - 53s 113ms/step - loss: 0.0442 - accuracy: 0.9867 - val_loss: 0.0843 - val_accuracy: 0.9736\n",
      "Epoch 5/20\n",
      "469/469 [==============================] - 53s 114ms/step - loss: 0.0349 - accuracy: 0.9894 - val_loss: 0.0542 - val_accuracy: 0.9824\n",
      "Epoch 6/20\n",
      "469/469 [==============================] - 55s 116ms/step - loss: 0.0278 - accuracy: 0.9913 - val_loss: 0.0536 - val_accuracy: 0.9839\n",
      "Epoch 7/20\n",
      "469/469 [==============================] - 59s 126ms/step - loss: 0.0244 - accuracy: 0.9926 - val_loss: 0.0738 - val_accuracy: 0.9778\n",
      "Epoch 8/20\n",
      "469/469 [==============================] - 54s 116ms/step - loss: 0.0193 - accuracy: 0.9940 - val_loss: 0.0621 - val_accuracy: 0.9819\n",
      "Epoch 9/20\n",
      "469/469 [==============================] - 58s 123ms/step - loss: 0.0158 - accuracy: 0.9949 - val_loss: 0.0546 - val_accuracy: 0.9840\n",
      "Epoch 10/20\n",
      "469/469 [==============================] - 62s 132ms/step - loss: 0.0141 - accuracy: 0.9959 - val_loss: 0.0552 - val_accuracy: 0.9846\n",
      "Epoch 11/20\n",
      "469/469 [==============================] - 59s 125ms/step - loss: 0.0133 - accuracy: 0.9958 - val_loss: 0.0550 - val_accuracy: 0.9861\n",
      "Epoch 12/20\n",
      "469/469 [==============================] - 56s 120ms/step - loss: 0.0111 - accuracy: 0.9964 - val_loss: 0.0633 - val_accuracy: 0.9833\n",
      "Epoch 13/20\n",
      "469/469 [==============================] - 57s 121ms/step - loss: 0.0090 - accuracy: 0.9973 - val_loss: 0.0612 - val_accuracy: 0.9833\n",
      "Epoch 14/20\n",
      "469/469 [==============================] - 57s 122ms/step - loss: 0.0078 - accuracy: 0.9976 - val_loss: 0.1058 - val_accuracy: 0.9720\n",
      "Epoch 15/20\n",
      "469/469 [==============================] - 53s 112ms/step - loss: 0.0072 - accuracy: 0.9976 - val_loss: 0.0980 - val_accuracy: 0.9755\n",
      "Epoch 16/20\n",
      "469/469 [==============================] - 46s 98ms/step - loss: 0.0059 - accuracy: 0.9984 - val_loss: 0.0527 - val_accuracy: 0.9856\n",
      "Epoch 17/20\n",
      "469/469 [==============================] - 46s 98ms/step - loss: 0.0046 - accuracy: 0.9987 - val_loss: 0.0537 - val_accuracy: 0.9857\n",
      "Epoch 18/20\n",
      "469/469 [==============================] - 52s 111ms/step - loss: 0.0045 - accuracy: 0.9989 - val_loss: 0.0654 - val_accuracy: 0.9840\n",
      "Epoch 19/20\n",
      "469/469 [==============================] - 55s 117ms/step - loss: 0.0042 - accuracy: 0.9988 - val_loss: 0.0622 - val_accuracy: 0.9837\n",
      "Epoch 20/20\n",
      "469/469 [==============================] - 51s 110ms/step - loss: 0.0037 - accuracy: 0.9991 - val_loss: 0.0590 - val_accuracy: 0.9856\n"
     ]
    },
    {
     "data": {
      "text/plain": [
       "<keras.src.callbacks.History at 0x7f2aeceb0d30>"
      ]
     },
     "execution_count": 7,
     "metadata": {},
     "output_type": "execute_result"
    }
   ],
   "source": [
    "model.fit(x_train, y_train, batch_size=128, epochs=20, verbose=1, validation_data=(x_test, y_test))\n"
   ]
  },
  {
   "cell_type": "code",
   "execution_count": 8,
   "id": "24b5dd02",
   "metadata": {},
   "outputs": [
    {
     "name": "stdout",
     "output_type": "stream",
     "text": [
      "313/313 [==============================] - 4s 14ms/step - loss: 0.0590 - accuracy: 0.9856\n",
      "Test Loss: 0.05903772637248039\n",
      "Test accuracy: 0.9855999946594238\n"
     ]
    }
   ],
   "source": [
    "score = model.evaluate(x_test, y_test)\n",
    "print('Test Loss:', score[0])\n",
    "print('Test accuracy:', score[1])\n"
   ]
  },
  {
   "cell_type": "code",
   "execution_count": null,
   "id": "221bdf57",
   "metadata": {},
   "outputs": [],
   "source": []
  }
 ],
 "metadata": {
  "kernelspec": {
   "display_name": "Python 3 (ipykernel)",
   "language": "python",
   "name": "python3"
  },
  "language_info": {
   "codemirror_mode": {
    "name": "ipython",
    "version": 3
   },
   "file_extension": ".py",
   "mimetype": "text/x-python",
   "name": "python",
   "nbconvert_exporter": "python",
   "pygments_lexer": "ipython3",
   "version": "3.10.9"
  }
 },
 "nbformat": 4,
 "nbformat_minor": 5
}
